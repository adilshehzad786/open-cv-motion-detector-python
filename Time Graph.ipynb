{
 "cells": [
  {
   "cell_type": "code",
   "execution_count": 4,
   "metadata": {},
   "outputs": [
    {
     "ename": "SyntaxError",
     "evalue": "invalid syntax (<ipython-input-4-0054e8de3d9e>, line 7)",
     "output_type": "error",
     "traceback": [
      "\u001b[1;36m  File \u001b[1;32m\"<ipython-input-4-0054e8de3d9e>\"\u001b[1;36m, line \u001b[1;32m7\u001b[0m\n\u001b[1;33m    p=Scatter(df,x=\"X\",y=\"Y\", title=\"Temperature\",xlabel=\"Day of Observations\",ylabel\"Temperature\")\u001b[0m\n\u001b[1;37m                                                                                                 ^\u001b[0m\n\u001b[1;31mSyntaxError\u001b[0m\u001b[1;31m:\u001b[0m invalid syntax\n"
     ]
    }
   ],
   "source": [
    "from bkcharts import Scatter,output_file,show\n",
    "import pandas\n",
    "\n",
    "df=pandas.DataFrame(columns=[\"X\",\"Y\"])\n",
    "df[\"X\"]=[1,2,3,4,5]\n",
    "df[\"Y\"]=[5,6,4,3,1]\n",
    "p=Scatter(df,x=\"X\",y=\"Y\", title=\"Temperature\",xlabel=\"Day of Observations\",ylabel\"Temperature\")\n",
    "          \n",
    "output_file(\"Help.html\")\n",
    "show(p)"
   ]
  },
  {
   "cell_type": "code",
   "execution_count": null,
   "metadata": {
    "collapsed": true
   },
   "outputs": [],
   "source": []
  },
  {
   "cell_type": "code",
   "execution_count": null,
   "metadata": {
    "collapsed": true
   },
   "outputs": [],
   "source": []
  },
  {
   "cell_type": "code",
   "execution_count": null,
   "metadata": {
    "collapsed": true
   },
   "outputs": [],
   "source": []
  }
 ],
 "metadata": {
  "kernelspec": {
   "display_name": "Python 3",
   "language": "python",
   "name": "python3"
  },
  "language_info": {
   "codemirror_mode": {
    "name": "ipython",
    "version": 3
   },
   "file_extension": ".py",
   "mimetype": "text/x-python",
   "name": "python",
   "nbconvert_exporter": "python",
   "pygments_lexer": "ipython3",
   "version": "3.6.1"
  }
 },
 "nbformat": 4,
 "nbformat_minor": 2
}
